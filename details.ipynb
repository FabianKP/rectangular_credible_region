{
 "cells": [
  {
   "cell_type": "markdown",
   "source": [
    "MORE DETAILS\n",
    "===\n",
    "\n",
    "Credible intervals are an important way to summarize uncertainty, especially in Bayesian inference.\n",
    "\n",
    "In contrast to other summary statistics (e.g. mean and standard deviation), they have the advantage that they are well-defined for\n",
    "all probability distributions (even those that do not have finite moments), and that their interpretation is not sensitive to\n",
    "the dimension of the underlying space (for example, the amount of probability mass of a multivariate distribution that a ball of radius equal to the\n",
    " standard deviation contains depends on the dimension).\n",
    "\n",
    "For a univariate distribution $p$, a $\\theta$-credible interval (where $\\theta \\in (0,1)$) is simply an interval $[\\ell, u] \\subset \\mathbb{R}$ such that\n",
    "\n",
    "$\n",
    "\\int_\\ell^u p(x) d x \\geq \\theta.\n",
    "$\n",
    "\n",
    "Usually, one wants the length of the interval $[\\ell, u]$ to be as small as possible. This leads to the notion of a *highest density interval* (HDI), defined\n",
    "as a credible interval of minimal length. See e.g. ...\n",
    "\n",
    "One problem with the concept of an HDI is that it might not be unique. However, if the probability distribution $p(x)$ is strongly unimodal, then the HDI is\n",
    "uniquely determined.\n",
    "\n",
    "In practice, HDIs often have to be estimated from samples. For example, suppose we are given samples $x^{(1)}, \\ldots, x^{(N)}$ from a strongly unimodal distribution. Then we can estimate the $q$-HDI by sorting the samples in ascending order, $x^{[1]} \\leq x^{[2]} \\leq \\ldots x^{[N]}$. If we set $N_q := \\lceil (1 - q) \\cdot N \\rceil$ and $K = \\mathrm{arg}\\min_{k=1,\\ldots, N} (x^{[K+N_\\alpha]} - x^{[K]})$, the interval $[x^{[K]}, x^{[K + N_\\alpha]}]$ is an estimator for the $q$-HDI.\n",
    "\n"
   ],
   "metadata": {
    "collapsed": false
   }
  },
  {
   "cell_type": "markdown",
   "source": [
    "Rectangular simultaneous credible regions for multivariate distributions\n",
    "---\n",
    "\n",
    "For multivariate distributions on a high-dimensional space $\\mathbb{R}^d$, one is often interested in regions $C \\subset \\mathbb{R}^d$ that contain a given\n",
    "percentage of the probability mass. This applies for example to non-parametric statistics or time-series analysis, where the parameter of interest corresponds to a function $f$ and one wants to estimate a *credible band*, i.e. two functions $\\ell=\\ell(t)$ and $u=u(t)$ with $\\ell(t) < u(t)$ such that $f$ lies between $\\ell$ and $u$\n",
    "with a given probability.\n",
    "\n",
    "If we have samples from a multivariate distribution $p(x)$ on $\\mathbb{R}^d$, we could compute $q$-HDIs $[\\ell_i, u_i]$ for each of the $d$ coordinates $i=1, \\ldots, d$.\n",
    "\n",
    "However, these coordinate-wise HDIs would not serve us as a credible region, because the set\n",
    "\n",
    "$\n",
    "[\\mathbf \\ell, \\mathbf u] = \\lbrace x \\in \\mathbb{R}^d ~ : ~ \\ell_i \\leq x_i \\leq u_i \\text{ for } i=1,\\ldots, d \\rbrace\n",
    "$\n",
    "\n",
    "will in general not contain $q \\cdot 100$ % of the probability mass of $p$ (see ... for further discussion).\n",
    "\n",
    "For this reason, one usually distinguishes between *marginal* and *simultaneous* credible bands for multivariate distributions.\n",
    "\n",
    "A *marginal credible band* with credibility $q$ for a multivariate probability distribution $p(x)$ on $\\mathbb R^d$ is any set $[\\mathbf \\ell, \\mathbf u]$ such that\n",
    "\n",
    "$\n",
    "\\int_{\\ell_i}^{u_i} p(x_1, \\ldots, x_{i-1}, y, x_{i+1}, \\ldots, x_d) d y \\geq q \\qquad \\text{for all } i=1,\\ldots, d.\n",
    "$\n",
    "\n",
    "In contrast, a *simultaneous credible band*, with credibility $q$, is any set $[\\mathbf \\ell, \\mathbf u]$ such that\n",
    "\n",
    "$\n",
    "\\int_{l_1}^{u_1} \\cdots \\int_{l_d}^{u_d} p(x) d x \\geq q.\n",
    "$\n",
    "\n",
    "Computing coordinate-wise HDIs only yields an estimator for a *marginal credible band*, not a simultaneous one.\n",
    "\n",
    "\n"
   ],
   "metadata": {
    "collapsed": false
   }
  },
  {
   "cell_type": "markdown",
   "source": [
    "Estimating rectangular simultaneous credible regions\n",
    "---\n",
    "\n",
    "Because simultaneous credible regions cannot be computed coordinate-wise, they are much more challenging to estimate.\n",
    "\n",
    "In principle, if we have $d$-dimensional samples $x^{(1)}, \\ldots, x^{(N)}$, we could estimate a rectangular simultaneous $q$-credible region by computing the\n",
    "smallest $d$-dimensional box $[\\ell, u]$ that contains at least $q \\cdot N$ samples. In computational geometry, such a box is called a *minimum-volume\n",
    "axis-aligned bounding box*. The problem is that for high-dimensional samples, finding such a box computationally is a very hard problem.\n",
    "The computation time of existing algorithms usually increases exponentially with the dimension $d$ and polynomially with the number of samples (see ...).\n",
    "\n",
    "Therefore, in statistics one usually resorts to methods that do not estimate the smallest (i.e. the highest-density) rectangular simultaneous credible region,\n",
    "but simply compute a conservative estimate (i.e. a box that contains at least $q \\cdot N$ samples) that is \"sufficiently small\".\n",
    "\n",
    "One such method is the widely known algorithm proposed in the article\n",
    "\n",
    "\"Bayesian Computation and Stochastic Systems\" (1995) by J. Besag, P. Green, D. Higdon and K. Mengersen,\n",
    "\n",
    "also known simply as the *Besag method*. It is a very fast method that yields a conservative estimate of a simultaneous credible region. However,\n",
    "one main problem with the Besag method is that in high dimensions the estimate becomes too conservative, to the point where it contains all of\n",
    "the samples and therefore ceases to be useful.\n",
    "\n",
    "The idea behind the method implemented here is to use the probability density function $p(x)$ to obtain information about the geometry of\n",
    "the highest-posterior density regions, and to use this information in constructing an estimate of a simultaneous credible band.\n",
    "While this method does not yield the minimal-volume axis-aligned bounding box, it yields credible regions that are usually\n",
    "smaller (\"tighter\") than the ones obtained with the Besag method.\n",
    "\n"
   ],
   "metadata": {
    "collapsed": false
   }
  },
  {
   "cell_type": "markdown",
   "source": [
    "Outline of the method\n",
    "---\n",
    "\n",
    "**Given**\n",
    "Given a unimodal target probability distribution $p(x)$ on $\\mathbb R^d$, we assume that we have access to the mode $x^*$, a function $g=(x)$ on $\\mathbb R^d$ such that $p(x) \\propto \\exp( - g(x))$ (i.e. $g$ is equal to the negative log-density function, up to an additive constant), and samples $x^{(1]}, \\ldots, x^{(N)} \\sim p(x)$.\n",
    "\n",
    "**Target**\n",
    "Estimate a rectangular credible region with given credibility level $\\theta \\in (0,1)$.\n",
    "\n",
    "**Strategy**:\n",
    "We know that the highest density regions of $p(x)$ are given by the sublevel sets of $g$, i.e. sets of the form $C_\\gamma = \\lbrace x ~ : ~ g(x) \\leq \\gamma \\rbrace$.\n",
    "Given samples, we can approximate these regions by discrete sets of the form $\\hat C_\\gamma = \\lbrace x^{(i)} ~ : ~ g(x^{(i)}) \\leq \\gamma$.\n",
    "The smallest axis-aligned box $B_\\gamma$ that contains $\\hat C_\\gamma$ can then be computed very simply through min-maxing.\n",
    "However, if $\\hat C_\\gamma$ contains $K$ samples, then $B_\\gamma$ might \"accidentally\" contain more than $K$ samples, since $B_\\gamma \\setminus \\hat C_\\gamma$ might\n",
    "be non-empty. Hence, we have to adjust by finding the smallest $\\gamma$ such that\n",
    "the box $B_\\gamma$ contains exactly $\\theta$ of the probability mass of $p(x)$. This can be done with bisection.\n"
   ],
   "metadata": {
    "collapsed": false
   }
  },
  {
   "cell_type": "markdown",
   "source": [
    "\n",
    "**Algorithm**\n",
    "\n",
    "1. Compute $g^{(i)} = g(x^{(i})$ for $i = 1,\\ldots, N$.\n",
    "2. Sort $g^1, \\ldots, g^N$ in ascending order, $g^{[1]} \\leq g^{[2]} \\leq \\ldots g^{[N]}$. Ties are decided by the distance to the mode $x^*$.\n",
    "3. Set $N_\\theta = \\lceil \\theta \\cdot N \\rceil$.\n",
    "4. Set $B$ equal to the smallest axis-aligned box that contains $x^{[1]}, \\ldots, x^{[N_\\theta]}$.\n",
    "5. Set $K$ equal to the number of samples in $B$.\n",
    "6. If $K = N_\\theta$, we are done.\n",
    "7. Otherwise, set $K_\\min = 1$ and $K_\\max = N_\\theta$. While $K \\neq N_\\theta$, do:\n",
    "    1. If $K > N_\\theta$, set $K_\\max = K$ and $K = \\frac{1}{2}(K_\\min + K)$.\n",
    "    2. If $K < N_\\theta$, set $K_\\min = K$ and $K = \\frac{1}{2}(K + K_\\max)$.\n",
    "    3. Set $B$ equal to the smallest axis-aligned box that contains $x^{[1]}, \\ldots, x^{[K]}$.\n",
    "    4. Set $K$ equal to the number of samples in $B$.\n",
    "8. Return the box $B$.\n",
    "\n",
    "This algorithm is implemented in `simultaneous_ci/simultaneous_ci.py`.\n"
   ],
   "metadata": {
    "collapsed": false
   }
  }
 ],
 "metadata": {
  "kernelspec": {
   "display_name": "Python 3",
   "language": "python",
   "name": "python3"
  },
  "language_info": {
   "codemirror_mode": {
    "name": "ipython",
    "version": 2
   },
   "file_extension": ".py",
   "mimetype": "text/x-python",
   "name": "python",
   "nbconvert_exporter": "python",
   "pygments_lexer": "ipython2",
   "version": "2.7.6"
  }
 },
 "nbformat": 4,
 "nbformat_minor": 0
}
